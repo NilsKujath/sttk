{
 "cells": [
  {
   "cell_type": "code",
   "execution_count": 1,
   "id": "7ef92673-6ba0-4339-9aa4-89b3053ac40f",
   "metadata": {},
   "outputs": [],
   "source": [
    "from sttk.core import helloworld"
   ]
  },
  {
   "cell_type": "code",
   "execution_count": 2,
   "id": "9c0f1930-b24f-4dc2-907c-5f6d1146d253",
   "metadata": {},
   "outputs": [
    {
     "name": "stdout",
     "output_type": "stream",
     "text": [
      "Hello, World!\n"
     ]
    }
   ],
   "source": [
    "helloworld()"
   ]
  },
  {
   "cell_type": "code",
   "execution_count": null,
   "id": "6b4acdfc-df98-4c80-b235-005a3ce0a257",
   "metadata": {},
   "outputs": [],
   "source": []
  }
 ],
 "metadata": {
  "kernelspec": {
   "display_name": "Python 3 (ipykernel)",
   "language": "python",
   "name": "python3"
  },
  "language_info": {
   "codemirror_mode": {
    "name": "ipython",
    "version": 3
   },
   "file_extension": ".py",
   "mimetype": "text/x-python",
   "name": "python",
   "nbconvert_exporter": "python",
   "pygments_lexer": "ipython3",
   "version": "3.12.6"
  }
 },
 "nbformat": 4,
 "nbformat_minor": 5
}
